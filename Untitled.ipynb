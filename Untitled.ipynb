{
 "cells": [
  {
   "cell_type": "code",
   "execution_count": 1,
   "metadata": {},
   "outputs": [],
   "source": [
    "import numpy as np\n",
    "import torch\n",
    "import unittest"
   ]
  },
  {
   "cell_type": "code",
   "execution_count": 2,
   "metadata": {},
   "outputs": [
    {
     "name": "stderr",
     "output_type": "stream",
     "text": [
      "WARNING:root:This caffe2 python run does not have GPU support. Will run in CPU only mode.\n"
     ]
    }
   ],
   "source": [
    "from safe_explorer.core.config import Config\n",
    "from safe_explorer.env.ballnd import BallND\n",
    "from safe_explorer.env.spaceship import Spaceship\n",
    "from safe_explorer.ddpg.actor import Actor\n",
    "from safe_explorer.ddpg.critic import Critic\n",
    "from safe_explorer.ddpg.ddpg import DDPG"
   ]
  },
  {
   "cell_type": "code",
   "execution_count": 3,
   "metadata": {},
   "outputs": [],
   "source": [
    "Config.load_config(\"\")"
   ]
  },
  {
   "cell_type": "code",
   "execution_count": 4,
   "metadata": {},
   "outputs": [],
   "source": [
    "ballnd = BallND()"
   ]
  },
  {
   "cell_type": "code",
   "execution_count": 5,
   "metadata": {},
   "outputs": [],
   "source": [
    "spaceship = Spaceship()"
   ]
  },
  {
   "cell_type": "code",
   "execution_count": 6,
   "metadata": {},
   "outputs": [],
   "source": [
    "import gym\n",
    "env = gym.make('Pendulum-v0').unwrapped"
   ]
  },
  {
   "cell_type": "code",
   "execution_count": 7,
   "metadata": {},
   "outputs": [],
   "source": [
    "actor = Actor(2, 1)\n",
    "critic = Critic(2, 1)"
   ]
  },
  {
   "cell_type": "code",
   "execution_count": 8,
   "metadata": {},
   "outputs": [],
   "source": [
    "ddpg = DDPG(ballnd, actor, critic)"
   ]
  },
  {
   "cell_type": "code",
   "execution_count": null,
   "metadata": {},
   "outputs": [
    {
     "name": "stdout",
     "output_type": "stream",
     "text": [
      "==========================================================\n",
      "Initializing training with config:\n",
      "----------------------------------------------------------\n",
      "Safe Explorer:\n",
      "    env:\n",
      "        spaceship:\n",
      "            length: 2.5\n",
      "            margin: 0.2\n",
      "            agent_slack: 0.1\n",
      "            frequency_ratio: 0.1\n",
      "            target_noise_std: 0.05\n",
      "            target_radius: 0.05\n",
      "            corridor_episode_length: 15\n",
      "            arena_episode_length: 45\n",
      "            enable_reward_shaping: False\n",
      "            is_arena: True\n",
      "        ballnd:\n",
      "            n: 1\n",
      "            target_margin: 0.2\n",
      "            agent_slack: 0.1\n",
      "            episode_length: 30\n",
      "            frequency_ratio: 0.1\n",
      "            respawn_interval: 0.5\n",
      "            target_noise_std: 0.05\n",
      "            enable_reward_shaping: False\n",
      "    ddpg:\n",
      "        actor:\n",
      "            layers: [128, 64]\n",
      "            init_bound: 0.003\n",
      "        critic:\n",
      "            layers: [64, 128, 32]\n",
      "            init_bound: 0.003\n",
      "        trainer:\n",
      "            seed: 0\n",
      "            epochs: 100\n",
      "            steps_per_epoch: 6000\n",
      "            evaluation_steps: 1500\n",
      "            batch_size: 32\n",
      "            max_episode_length: 300\n",
      "            replay_buffer_size: 1000000\n",
      "            discount_factor: 0.99\n",
      "            polyak: 0.995\n",
      "            actor_lr: 0.001\n",
      "            critic_lr: 0.001\n",
      "            start_steps: 500\n",
      "            action_noise_range: 0.01\n",
      "            tensorboard_dir: ./runs/tensorboard/\n",
      "            use_gpu: False\n",
      "            reward_scale: 1\n",
      "            max_updates_per_episode: 10\n",
      "            min_buffer_fill: 2000\n",
      "    core:\n",
      "        driver:\n",
      "            task: ballnd\n",
      "==========================================================\n",
      "Start time: 1558979132.144972\n",
      "==========================================================\n",
      "Finished epoch 1.0. Running validation ...\n",
      "Validation completed:\n",
      "Number of episodes: 5\n",
      "Average episode length: 300.0\n",
      "Average reward: -0.6014187326475349\n",
      "Average action magnitude: 0.007818744517862797\n",
      "----------------------------------------------------------\n",
      "Finished epoch 2.0. Running validation ...\n",
      "Validation completed:\n",
      "Number of episodes: 5\n",
      "Average episode length: 300.0\n",
      "Average reward: 0.29278565366046505\n",
      "Average action magnitude: 0.05299552157521248\n",
      "----------------------------------------------------------\n",
      "Finished epoch 3.0. Running validation ...\n",
      "Validation completed:\n",
      "Number of episodes: 5\n",
      "Average episode length: 300.0\n",
      "Average reward: 1.1188275193494748\n",
      "Average action magnitude: 0.16161274909973145\n",
      "----------------------------------------------------------\n",
      "Finished epoch 4.0. Running validation ...\n",
      "Validation completed:\n",
      "Number of episodes: 5\n",
      "Average episode length: 300.0\n",
      "Average reward: 15.520634747851592\n",
      "Average action magnitude: 0.2225843369960785\n",
      "----------------------------------------------------------\n",
      "Finished epoch 5.0. Running validation ...\n",
      "Validation completed:\n",
      "Number of episodes: 5\n",
      "Average episode length: 300.0\n",
      "Average reward: 16.3988511099623\n",
      "Average action magnitude: 0.3282650113105774\n",
      "----------------------------------------------------------\n"
     ]
    }
   ],
   "source": [
    "ddpg.train()"
   ]
  },
  {
   "cell_type": "code",
   "execution_count": null,
   "metadata": {},
   "outputs": [],
   "source": []
  }
 ],
 "metadata": {
  "kernelspec": {
   "display_name": "Python 3",
   "language": "python",
   "name": "python3"
  },
  "language_info": {
   "codemirror_mode": {
    "name": "ipython",
    "version": 3
   },
   "file_extension": ".py",
   "mimetype": "text/x-python",
   "name": "python",
   "nbconvert_exporter": "python",
   "pygments_lexer": "ipython3",
   "version": "3.6.8"
  }
 },
 "nbformat": 4,
 "nbformat_minor": 2
}
